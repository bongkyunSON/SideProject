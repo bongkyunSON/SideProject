{
 "cells": [
  {
   "cell_type": "markdown",
   "metadata": {},
   "source": [
    "# 서론\n",
    "    - 알려진 사실에서 출발\n",
    "    - 포트폴리오 이론에 따르면 개별 주식에는 2가지 위험이 존재한다. 그 중 개별위험은 분산투자를 통해 관리할 수 있다. \n",
    "      - 개별 위험: 개별 기업들이 갖고 있는 위험\n",
    "      - 시장 위험: 거시경제의 움직임에 따른 위험"
   ]
  },
  {
   "cell_type": "code",
   "execution_count": 1,
   "metadata": {},
   "outputs": [],
   "source": [
    "import yfinance as yf\n",
    "# 패키지 임포트\n",
    "import numpy as np\n",
    "import pandas as pd\n",
    "import matplotlib.pyplot as plt\n",
    "import seaborn as sns\n",
    "sns.set()"
   ]
  },
  {
   "cell_type": "code",
   "execution_count": 2,
   "metadata": {},
   "outputs": [],
   "source": [
    "price_universe = pd.read_csv('price_universe.csv', index_col=0)\n",
    "price_universe.index = pd.to_datetime(price_universe.index)\n",
    "\n",
    "price_info = pd.read_csv('price_info_df.csv', index_col=0)"
   ]
  },
  {
   "cell_type": "code",
   "execution_count": 3,
   "metadata": {},
   "outputs": [],
   "source": [
    "# 자산군 가격\n",
    "equity_price = price_info.loc['equity',:]\n",
    "equity_price = price_universe.loc[:, equity_price['price info']]\n",
    "\n",
    "commodity_price = price_info.loc['commodity',:]\n",
    "commodity_price = price_universe.loc[:, commodity_price['price info']]\n",
    "\n",
    "fx = price_info.loc['fx',:]\n",
    "fx = price_universe.loc[:, fx['price info']]\n",
    "\n",
    "bond_price = price_info.loc['bond etf',:]\n",
    "bond_price = price_universe.loc[:, bond_price['price info']]"
   ]
  },
  {
   "cell_type": "code",
   "execution_count": 4,
   "metadata": {},
   "outputs": [],
   "source": [
    "# 거시경제지표\n",
    "sp500_index = price_info.loc['sp500 index',:]\n",
    "sp500_index = price_universe.loc[:, sp500_index.values]\n",
    "\n",
    "econ_regime = pd.read_csv('econ_regime.csv', index_col=0)\n",
    "econ_regime.index = pd.to_datetime(econ_regime.index)\n",
    "\n",
    "econ_regime = pd.concat([sp500_index, econ_regime], axis=1)"
   ]
  },
  {
   "cell_type": "code",
   "execution_count": 5,
   "metadata": {},
   "outputs": [
    {
     "data": {
      "text/plain": [
       "S&P 500    0.013312\n",
       "dtype: float64"
      ]
     },
     "execution_count": 5,
     "metadata": {},
     "output_type": "execute_result"
    }
   ],
   "source": [
    "sp500_index.pct_change().std()#describe()"
   ]
  },
  {
   "cell_type": "code",
   "execution_count": 6,
   "metadata": {},
   "outputs": [
    {
     "data": {
      "text/plain": [
       "A       0.017978\n",
       "AAPL    0.021172\n",
       "ABC     0.020362\n",
       "ABT     0.017338\n",
       "ACGL    0.021786\n",
       "          ...   \n",
       "XOM     0.021571\n",
       "XRAY    0.022564\n",
       "YUM     0.017455\n",
       "ZBRA    0.025720\n",
       "ZION    0.025391\n",
       "Length: 365, dtype: float64"
      ]
     },
     "execution_count": 6,
     "metadata": {},
     "output_type": "execute_result"
    }
   ],
   "source": [
    "equity_price.pct_change().std()#describe()"
   ]
  },
  {
   "cell_type": "code",
   "execution_count": 7,
   "metadata": {},
   "outputs": [
    {
     "data": {
      "text/html": [
       "<div>\n",
       "<style scoped>\n",
       "    .dataframe tbody tr th:only-of-type {\n",
       "        vertical-align: middle;\n",
       "    }\n",
       "\n",
       "    .dataframe tbody tr th {\n",
       "        vertical-align: top;\n",
       "    }\n",
       "\n",
       "    .dataframe thead th {\n",
       "        text-align: right;\n",
       "    }\n",
       "</style>\n",
       "<table border=\"1\" class=\"dataframe\">\n",
       "  <thead>\n",
       "    <tr style=\"text-align: right;\">\n",
       "      <th></th>\n",
       "      <th>price info</th>\n",
       "    </tr>\n",
       "  </thead>\n",
       "  <tbody>\n",
       "    <tr>\n",
       "      <th>equity</th>\n",
       "      <td>A</td>\n",
       "    </tr>\n",
       "    <tr>\n",
       "      <th>equity</th>\n",
       "      <td>AAPL</td>\n",
       "    </tr>\n",
       "    <tr>\n",
       "      <th>equity</th>\n",
       "      <td>ABC</td>\n",
       "    </tr>\n",
       "    <tr>\n",
       "      <th>equity</th>\n",
       "      <td>ABT</td>\n",
       "    </tr>\n",
       "    <tr>\n",
       "      <th>equity</th>\n",
       "      <td>ACGL</td>\n",
       "    </tr>\n",
       "    <tr>\n",
       "      <th>...</th>\n",
       "      <td>...</td>\n",
       "    </tr>\n",
       "    <tr>\n",
       "      <th>regime</th>\n",
       "      <td>Growth</td>\n",
       "    </tr>\n",
       "    <tr>\n",
       "      <th>regime</th>\n",
       "      <td>Inflation</td>\n",
       "    </tr>\n",
       "    <tr>\n",
       "      <th>regime</th>\n",
       "      <td>Volatilities</td>\n",
       "    </tr>\n",
       "    <tr>\n",
       "      <th>regime</th>\n",
       "      <td>Funding Liquidity</td>\n",
       "    </tr>\n",
       "    <tr>\n",
       "      <th>regime</th>\n",
       "      <td>Market Liquidity</td>\n",
       "    </tr>\n",
       "  </tbody>\n",
       "</table>\n",
       "<p>395 rows × 1 columns</p>\n",
       "</div>"
      ],
      "text/plain": [
       "               price info\n",
       "equity                  A\n",
       "equity               AAPL\n",
       "equity                ABC\n",
       "equity                ABT\n",
       "equity               ACGL\n",
       "...                   ...\n",
       "regime             Growth\n",
       "regime          Inflation\n",
       "regime       Volatilities\n",
       "regime  Funding Liquidity\n",
       "regime   Market Liquidity\n",
       "\n",
       "[395 rows x 1 columns]"
      ]
     },
     "execution_count": 7,
     "metadata": {},
     "output_type": "execute_result"
    }
   ],
   "source": [
    "price_info"
   ]
  },
  {
   "cell_type": "code",
   "execution_count": null,
   "metadata": {},
   "outputs": [],
   "source": []
  }
 ],
 "metadata": {
  "kernelspec": {
   "display_name": "Python 3 (ipykernel)",
   "language": "python",
   "name": "python3"
  },
  "language_info": {
   "codemirror_mode": {
    "name": "ipython",
    "version": 3
   },
   "file_extension": ".py",
   "mimetype": "text/x-python",
   "name": "python",
   "nbconvert_exporter": "python",
   "pygments_lexer": "ipython3",
   "version": "3.9.13"
  },
  "vscode": {
   "interpreter": {
    "hash": "83dd0bd78b90483a65206239ae641ce33c1006d8cfa3dc2c0ef657dc664ce282"
   }
  }
 },
 "nbformat": 4,
 "nbformat_minor": 2
}
